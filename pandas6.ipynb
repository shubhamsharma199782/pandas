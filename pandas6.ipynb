{
 "nbformat": 4,
 "nbformat_minor": 2,
 "metadata": {
  "language_info": {
   "name": "python",
   "codemirror_mode": {
    "name": "ipython",
    "version": 3
   },
   "version": "3.7.0-final"
  },
  "orig_nbformat": 2,
  "file_extension": ".py",
  "mimetype": "text/x-python",
  "name": "python",
  "npconvert_exporter": "python",
  "pygments_lexer": "ipython3",
  "version": 3,
  "kernelspec": {
   "name": "python37064bit6dca8533efbe440b879782639ebf8130",
   "display_name": "Python 3.7.0 64-bit"
  }
 },
 "cells": [
  {
   "cell_type": "code",
   "execution_count": 1,
   "metadata": {},
   "outputs": [],
   "source": [
    "import pandas as pd\n",
    "import numpy as np "
   ]
  },
  {
   "cell_type": "code",
   "execution_count": 3,
   "metadata": {},
   "outputs": [
    {
     "name": "stdout",
     "output_type": "stream",
     "text": "(California, 2000)    33871648\n(California, 2010)    37253956\n(New York, 2000)      18976457\n(New York, 2010)      19378102\n(Texas, 2000)         20851820\n(Texas, 2010)         25145561\ndtype: int64\n"
    },
    {
     "data": {
      "text/plain": "MultiIndex(levels=[['California', 'New York', 'Texas'], [2000, 2010]],\n           codes=[[0, 0, 1, 1, 2, 2], [0, 1, 0, 1, 0, 1]])"
     },
     "execution_count": 3,
     "metadata": {},
     "output_type": "execute_result"
    }
   ],
   "source": [
    "# Hierarchical indexing\n",
    "# We can create a multi-index from the tuples\n",
    "index = [('California', 2000), ('California', 2010),\n",
    "         ('New York', 2000), ('New York', 2010),\n",
    "         ('Texas', 2000), ('Texas', 2010)]\n",
    "populations = [33871648, 37253956,\n",
    "               18976457, 19378102,\n",
    "               20851820, 25145561]\n",
    "pop = pd.Series(populations, index=index)\n",
    "print(pop)\n",
    "index = pd.MultiIndex.from_tuples(index)\n",
    "index"
   ]
  },
  {
   "cell_type": "code",
   "execution_count": 5,
   "metadata": {},
   "outputs": [
    {
     "data": {
      "text/plain": "California  2000    33871648\n            2010    37253956\nNew York    2000    18976457\n            2010    19378102\nTexas       2000    20851820\n            2010    25145561\ndtype: int64"
     },
     "execution_count": 5,
     "metadata": {},
     "output_type": "execute_result"
    }
   ],
   "source": [
    "pop = pop.reindex(index)\n",
    "pop"
   ]
  },
  {
   "cell_type": "code",
   "execution_count": 8,
   "metadata": {},
   "outputs": [
    {
     "data": {
      "text/html": "<div>\n<style scoped>\n    .dataframe tbody tr th:only-of-type {\n        vertical-align: middle;\n    }\n\n    .dataframe tbody tr th {\n        vertical-align: top;\n    }\n\n    .dataframe thead th {\n        text-align: right;\n    }\n</style>\n<table border=\"1\" class=\"dataframe\">\n  <thead>\n    <tr style=\"text-align: right;\">\n      <th></th>\n      <th>2000</th>\n      <th>2010</th>\n    </tr>\n  </thead>\n  <tbody>\n    <tr>\n      <th>California</th>\n      <td>33871648</td>\n      <td>37253956</td>\n    </tr>\n    <tr>\n      <th>New York</th>\n      <td>18976457</td>\n      <td>19378102</td>\n    </tr>\n    <tr>\n      <th>Texas</th>\n      <td>20851820</td>\n      <td>25145561</td>\n    </tr>\n  </tbody>\n</table>\n</div>",
      "text/plain": "                2000      2010\nCalifornia  33871648  37253956\nNew York    18976457  19378102\nTexas       20851820  25145561"
     },
     "execution_count": 8,
     "metadata": {},
     "output_type": "execute_result"
    }
   ],
   "source": [
    "# Multiindex as extra Dimension\n",
    "pop_df = pop.unstack()\n",
    "pop_df\n",
    "# stack method provides the opposite of unstack()\n"
   ]
  },
  {
   "cell_type": "code",
   "execution_count": 9,
   "metadata": {},
   "outputs": [
    {
     "data": {
      "text/html": "<div>\n<style scoped>\n    .dataframe tbody tr th:only-of-type {\n        vertical-align: middle;\n    }\n\n    .dataframe tbody tr th {\n        vertical-align: top;\n    }\n\n    .dataframe thead th {\n        text-align: right;\n    }\n</style>\n<table border=\"1\" class=\"dataframe\">\n  <thead>\n    <tr style=\"text-align: right;\">\n      <th></th>\n      <th></th>\n      <th>total</th>\n      <th>under18</th>\n    </tr>\n  </thead>\n  <tbody>\n    <tr>\n      <th rowspan=\"2\" valign=\"top\">California</th>\n      <th>2000</th>\n      <td>33871648</td>\n      <td>9267089</td>\n    </tr>\n    <tr>\n      <th>2010</th>\n      <td>37253956</td>\n      <td>9284094</td>\n    </tr>\n    <tr>\n      <th rowspan=\"2\" valign=\"top\">New York</th>\n      <th>2000</th>\n      <td>18976457</td>\n      <td>4687374</td>\n    </tr>\n    <tr>\n      <th>2010</th>\n      <td>19378102</td>\n      <td>4318033</td>\n    </tr>\n    <tr>\n      <th rowspan=\"2\" valign=\"top\">Texas</th>\n      <th>2000</th>\n      <td>20851820</td>\n      <td>5906301</td>\n    </tr>\n    <tr>\n      <th>2010</th>\n      <td>25145561</td>\n      <td>6879014</td>\n    </tr>\n  </tbody>\n</table>\n</div>",
      "text/plain": "                    total  under18\nCalifornia 2000  33871648  9267089\n           2010  37253956  9284094\nNew York   2000  18976457  4687374\n           2010  19378102  4318033\nTexas      2000  20851820  5906301\n           2010  25145561  6879014"
     },
     "execution_count": 9,
     "metadata": {},
     "output_type": "execute_result"
    }
   ],
   "source": [
    "pop_df = pd.DataFrame({'total': pop,\n",
    "                        'under18': [9267089, 9284094,\n",
    "                                   4687374, 4318033,\n",
    "                                   5906301, 6879014]})\n",
    "pop_df"
   ]
  },
  {
   "cell_type": "code",
   "execution_count": 14,
   "metadata": {},
   "outputs": [
    {
     "data": {
      "text/html": "<div>\n<style scoped>\n    .dataframe tbody tr th:only-of-type {\n        vertical-align: middle;\n    }\n\n    .dataframe tbody tr th {\n        vertical-align: top;\n    }\n\n    .dataframe thead tr th {\n        text-align: left;\n    }\n</style>\n<table border=\"1\" class=\"dataframe\">\n  <thead>\n    <tr>\n      <th></th>\n      <th colspan=\"2\" halign=\"left\">total</th>\n      <th colspan=\"2\" halign=\"left\">under18</th>\n    </tr>\n    <tr>\n      <th></th>\n      <th>2000</th>\n      <th>2010</th>\n      <th>2000</th>\n      <th>2010</th>\n    </tr>\n  </thead>\n  <tbody>\n    <tr>\n      <th>California</th>\n      <td>33871648</td>\n      <td>37253956</td>\n      <td>9267089</td>\n      <td>9284094</td>\n    </tr>\n    <tr>\n      <th>New York</th>\n      <td>18976457</td>\n      <td>19378102</td>\n      <td>4687374</td>\n      <td>4318033</td>\n    </tr>\n    <tr>\n      <th>Texas</th>\n      <td>20851820</td>\n      <td>25145561</td>\n      <td>5906301</td>\n      <td>6879014</td>\n    </tr>\n  </tbody>\n</table>\n</div>",
      "text/plain": "               total            under18         \n                2000      2010     2000     2010\nCalifornia  33871648  37253956  9267089  9284094\nNew York    18976457  19378102  4687374  4318033\nTexas       20851820  25145561  5906301  6879014"
     },
     "execution_count": 14,
     "metadata": {},
     "output_type": "execute_result"
    }
   ],
   "source": [
    "pop_df.unstack()"
   ]
  },
  {
   "cell_type": "code",
   "execution_count": 15,
   "metadata": {},
   "outputs": [
    {
     "data": {
      "text/html": "<div>\n<style scoped>\n    .dataframe tbody tr th:only-of-type {\n        vertical-align: middle;\n    }\n\n    .dataframe tbody tr th {\n        vertical-align: top;\n    }\n\n    .dataframe thead th {\n        text-align: right;\n    }\n</style>\n<table border=\"1\" class=\"dataframe\">\n  <thead>\n    <tr style=\"text-align: right;\">\n      <th></th>\n      <th></th>\n      <th>data1</th>\n      <th>data2</th>\n    </tr>\n  </thead>\n  <tbody>\n    <tr>\n      <th rowspan=\"2\" valign=\"top\">a</th>\n      <th>1</th>\n      <td>0.041572</td>\n      <td>0.414332</td>\n    </tr>\n    <tr>\n      <th>2</th>\n      <td>0.575370</td>\n      <td>0.329158</td>\n    </tr>\n    <tr>\n      <th rowspan=\"2\" valign=\"top\">b</th>\n      <th>1</th>\n      <td>0.370215</td>\n      <td>0.749673</td>\n    </tr>\n    <tr>\n      <th>2</th>\n      <td>0.018821</td>\n      <td>0.150128</td>\n    </tr>\n  </tbody>\n</table>\n</div>",
      "text/plain": "        data1     data2\na 1  0.041572  0.414332\n  2  0.575370  0.329158\nb 1  0.370215  0.749673\n  2  0.018821  0.150128"
     },
     "execution_count": 15,
     "metadata": {},
     "output_type": "execute_result"
    }
   ],
   "source": [
    "# Methods of multi-index creation\n",
    "# implitic creation\n",
    "df = pd.DataFrame(np.random.rand(4, 2),\n",
    "                  index=[['a', 'a', 'b', 'b'], [1, 2, 1, 2]],\n",
    "                  columns=['data1', 'data2'])\n",
    "df"
   ]
  },
  {
   "cell_type": "code",
   "execution_count": 17,
   "metadata": {},
   "outputs": [
    {
     "data": {
      "text/plain": "MultiIndex(levels=[['a', 'b'], [1, 2]],\n           codes=[[0, 0, 1, 1], [0, 1, 0, 1]])"
     },
     "execution_count": 17,
     "metadata": {},
     "output_type": "execute_result"
    }
   ],
   "source": [
    "# Explicit MulitIndex constructors\n",
    "# 1) from_Arrays\n",
    "pd.MultiIndex.from_arrays([['a','a','b','b'],[1,2,1,2]])"
   ]
  },
  {
   "cell_type": "code",
   "execution_count": 18,
   "metadata": {},
   "outputs": [
    {
     "data": {
      "text/plain": "MultiIndex(levels=[['a', 'b'], [1, 2]],\n           codes=[[0, 0, 1, 1], [0, 1, 0, 1]])"
     },
     "execution_count": 18,
     "metadata": {},
     "output_type": "execute_result"
    }
   ],
   "source": [
    "# 2) from_tuples\n",
    "pd.MultiIndex.from_tuples([('a',1),('a',2),('b',1),('b',2)])"
   ]
  },
  {
   "cell_type": "code",
   "execution_count": 19,
   "metadata": {},
   "outputs": [
    {
     "data": {
      "text/plain": "MultiIndex(levels=[['a', 'b'], [1, 2]],\n           codes=[[0, 0, 1, 1], [0, 1, 0, 1]])"
     },
     "execution_count": 19,
     "metadata": {},
     "output_type": "execute_result"
    }
   ],
   "source": [
    "# 3) from_product\n",
    "pd.MultiIndex.from_product([['a','b'],[1,2]])"
   ]
  },
  {
   "cell_type": "code",
   "execution_count": 21,
   "metadata": {},
   "outputs": [
    {
     "data": {
      "text/plain": "state       year\nCalifornia  2000    33871648\n            2010    37253956\nNew York    2000    18976457\n            2010    19378102\nTexas       2000    20851820\n            2010    25145561\ndtype: int64"
     },
     "execution_count": 21,
     "metadata": {},
     "output_type": "execute_result"
    }
   ],
   "source": [
    "# MultiIndex level names\n",
    "pop.index.names = ['state','year']\n",
    "pop"
   ]
  },
  {
   "cell_type": "code",
   "execution_count": 28,
   "metadata": {},
   "outputs": [
    {
     "data": {
      "text/html": "<div>\n<style scoped>\n    .dataframe tbody tr th:only-of-type {\n        vertical-align: middle;\n    }\n\n    .dataframe tbody tr th {\n        vertical-align: top;\n    }\n\n    .dataframe thead tr th {\n        text-align: left;\n    }\n\n    .dataframe thead tr:last-of-type th {\n        text-align: right;\n    }\n</style>\n<table border=\"1\" class=\"dataframe\">\n  <thead>\n    <tr>\n      <th></th>\n      <th>subject</th>\n      <th colspan=\"2\" halign=\"left\">Bob</th>\n      <th colspan=\"2\" halign=\"left\">Guido</th>\n      <th colspan=\"2\" halign=\"left\">Sue</th>\n    </tr>\n    <tr>\n      <th></th>\n      <th>type</th>\n      <th>HR</th>\n      <th>Temp</th>\n      <th>HR</th>\n      <th>Temp</th>\n      <th>HR</th>\n      <th>Temp</th>\n    </tr>\n    <tr>\n      <th>year</th>\n      <th>visit</th>\n      <th></th>\n      <th></th>\n      <th></th>\n      <th></th>\n      <th></th>\n      <th></th>\n    </tr>\n  </thead>\n  <tbody>\n    <tr>\n      <th rowspan=\"2\" valign=\"top\">2013</th>\n      <th>1</th>\n      <td>41.0</td>\n      <td>38.4</td>\n      <td>27.0</td>\n      <td>38.9</td>\n      <td>45.0</td>\n      <td>38.3</td>\n    </tr>\n    <tr>\n      <th>2</th>\n      <td>40.0</td>\n      <td>36.8</td>\n      <td>49.0</td>\n      <td>37.1</td>\n      <td>45.0</td>\n      <td>37.8</td>\n    </tr>\n    <tr>\n      <th rowspan=\"2\" valign=\"top\">2014</th>\n      <th>1</th>\n      <td>33.0</td>\n      <td>36.5</td>\n      <td>36.0</td>\n      <td>36.3</td>\n      <td>25.0</td>\n      <td>38.3</td>\n    </tr>\n    <tr>\n      <th>2</th>\n      <td>25.0</td>\n      <td>37.6</td>\n      <td>24.0</td>\n      <td>36.7</td>\n      <td>32.0</td>\n      <td>38.4</td>\n    </tr>\n  </tbody>\n</table>\n</div>",
      "text/plain": "subject      Bob       Guido         Sue      \ntype          HR  Temp    HR  Temp    HR  Temp\nyear visit                                    \n2013 1      41.0  38.4  27.0  38.9  45.0  38.3\n     2      40.0  36.8  49.0  37.1  45.0  37.8\n2014 1      33.0  36.5  36.0  36.3  25.0  38.3\n     2      25.0  37.6  24.0  36.7  32.0  38.4"
     },
     "execution_count": 28,
     "metadata": {},
     "output_type": "execute_result"
    }
   ],
   "source": [
    "# hierarchical indices and columns\n",
    "index = pd.MultiIndex.from_product([[2013, 2014], [1, 2]],\n",
    "                                   names=['year', 'visit'])\n",
    "columns = pd.MultiIndex.from_product([['Bob', 'Guido', 'Sue'], ['HR', 'Temp']],\n",
    "                                     names=['subject', 'type'])\n",
    "\n",
    "# mock some data\n",
    "data = np.round(np.random.randn(4, 6), 1)\n",
    "data[:, ::2] *= 10\n",
    "data += 37\n",
    "\n",
    "# create the DataFrame\n",
    "health_data = pd.DataFrame(data, index=index, columns=columns)\n",
    "health_data"
   ]
  },
  {
   "cell_type": "code",
   "execution_count": 29,
   "metadata": {},
   "outputs": [
    {
     "data": {
      "text/html": "<div>\n<style scoped>\n    .dataframe tbody tr th:only-of-type {\n        vertical-align: middle;\n    }\n\n    .dataframe tbody tr th {\n        vertical-align: top;\n    }\n\n    .dataframe thead th {\n        text-align: right;\n    }\n</style>\n<table border=\"1\" class=\"dataframe\">\n  <thead>\n    <tr style=\"text-align: right;\">\n      <th></th>\n      <th>type</th>\n      <th>HR</th>\n      <th>Temp</th>\n    </tr>\n    <tr>\n      <th>year</th>\n      <th>visit</th>\n      <th></th>\n      <th></th>\n    </tr>\n  </thead>\n  <tbody>\n    <tr>\n      <th rowspan=\"2\" valign=\"top\">2013</th>\n      <th>1</th>\n      <td>27.0</td>\n      <td>38.9</td>\n    </tr>\n    <tr>\n      <th>2</th>\n      <td>49.0</td>\n      <td>37.1</td>\n    </tr>\n    <tr>\n      <th rowspan=\"2\" valign=\"top\">2014</th>\n      <th>1</th>\n      <td>36.0</td>\n      <td>36.3</td>\n    </tr>\n    <tr>\n      <th>2</th>\n      <td>24.0</td>\n      <td>36.7</td>\n    </tr>\n  </tbody>\n</table>\n</div>",
      "text/plain": "type          HR  Temp\nyear visit            \n2013 1      27.0  38.9\n     2      49.0  37.1\n2014 1      36.0  36.3\n     2      24.0  36.7"
     },
     "execution_count": 29,
     "metadata": {},
     "output_type": "execute_result"
    }
   ],
   "source": [
    "health_data['Guido']"
   ]
  },
  {
   "cell_type": "code",
   "execution_count": 36,
   "metadata": {},
   "outputs": [
    {
     "name": "stdout",
     "output_type": "stream",
     "text": "37253956\nyear\n2000    33871648\n2010    37253956\ndtype: int64\n\nstate       year\nCalifornia  2000    33871648\n            2010    37253956\nNew York    2000    18976457\n            2010    19378102\ndtype: int64\nstate       year\nCalifornia  2000    33871648\n            2010    37253956\nTexas       2010    25145561\ndtype: int64\n"
    }
   ],
   "source": [
    "# Indexing and Slicing a MultiIndex\n",
    "# 1) multi index Series\n",
    "print(pop['California',2010])\n",
    "print(pop.loc['California'], end=\"\\n\\n\")\n",
    "print(pop.loc['California':'New York'])\n",
    "print(pop[pop>22000000])"
   ]
  },
  {
   "cell_type": "code",
   "execution_count": 37,
   "metadata": {},
   "outputs": [
    {
     "data": {
      "text/plain": "year  visit\n2013  1        27.0\n      2        49.0\n2014  1        36.0\n      2        24.0\nName: (Guido, HR), dtype: float64"
     },
     "execution_count": 37,
     "metadata": {},
     "output_type": "execute_result"
    }
   ],
   "source": [
    "# 2) Multiply indexed DataFrame\n",
    "# remember that columns are primary in a dataframe and the syntax used for multiply indexed series applied to the columns\n",
    "health_data['Guido','HR']\n",
    "# health_data[:2,:2]"
   ]
  },
  {
   "cell_type": "code",
   "execution_count": 38,
   "metadata": {},
   "outputs": [
    {
     "data": {
      "text/plain": "year  visit\n2013  1        38.4\n      2        36.8\n2014  1        36.5\n      2        37.6\nName: (Bob, Temp), dtype: float64"
     },
     "execution_count": 38,
     "metadata": {},
     "output_type": "execute_result"
    }
   ],
   "source": [
    "# in loc or iloc index can be passed as tuple of multiple indices\n",
    "health_data.loc[:, (\"Bob\", 'Temp')]"
   ]
  },
  {
   "cell_type": "code",
   "execution_count": 41,
   "metadata": {},
   "outputs": [
    {
     "ename": "SyntaxError",
     "evalue": "invalid syntax (<ipython-input-41-dfb032bf0db3>, line 2)",
     "output_type": "error",
     "traceback": [
      "\u001b[0;36m  File \u001b[0;32m\"<ipython-input-41-dfb032bf0db3>\"\u001b[0;36m, line \u001b[0;32m2\u001b[0m\n\u001b[0;31m    health_data.loc[:,(:\"HR\")]\u001b[0m\n\u001b[0m                       ^\u001b[0m\n\u001b[0;31mSyntaxError\u001b[0m\u001b[0;31m:\u001b[0m invalid syntax\n"
     ]
    }
   ],
   "source": [
    "# Working with slices within these index tuples is not especially convenient; trying to create a slice within a tuple will lead to a syntax error:\n",
    "health_data.loc[:,(:\"HR\")]"
   ]
  },
  {
   "cell_type": "code",
   "execution_count": 45,
   "metadata": {},
   "outputs": [
    {
     "data": {
      "text/html": "<div>\n<style scoped>\n    .dataframe tbody tr th:only-of-type {\n        vertical-align: middle;\n    }\n\n    .dataframe tbody tr th {\n        vertical-align: top;\n    }\n\n    .dataframe thead tr th {\n        text-align: left;\n    }\n\n    .dataframe thead tr:last-of-type th {\n        text-align: right;\n    }\n</style>\n<table border=\"1\" class=\"dataframe\">\n  <thead>\n    <tr>\n      <th></th>\n      <th>subject</th>\n      <th>Bob</th>\n      <th>Guido</th>\n      <th>Sue</th>\n    </tr>\n    <tr>\n      <th></th>\n      <th>type</th>\n      <th>HR</th>\n      <th>HR</th>\n      <th>HR</th>\n    </tr>\n    <tr>\n      <th>year</th>\n      <th>visit</th>\n      <th></th>\n      <th></th>\n      <th></th>\n    </tr>\n  </thead>\n  <tbody>\n    <tr>\n      <th>2013</th>\n      <th>1</th>\n      <td>41.0</td>\n      <td>27.0</td>\n      <td>45.0</td>\n    </tr>\n    <tr>\n      <th>2014</th>\n      <th>1</th>\n      <td>33.0</td>\n      <td>36.0</td>\n      <td>25.0</td>\n    </tr>\n  </tbody>\n</table>\n</div>",
      "text/plain": "subject      Bob Guido   Sue\ntype          HR    HR    HR\nyear visit                  \n2013 1      41.0  27.0  45.0\n2014 1      33.0  36.0  25.0"
     },
     "execution_count": 45,
     "metadata": {},
     "output_type": "execute_result"
    }
   ],
   "source": [
    "# A better way is to use IndexSlice object which pandas provides for precisely for this situation\n",
    "idx = pd.IndexSlice\n",
    "health_data.loc[idx[:,1], idx[:, \"HR\"]]"
   ]
  },
  {
   "cell_type": "code",
   "execution_count": 47,
   "metadata": {},
   "outputs": [
    {
     "data": {
      "text/plain": "char  int\na     1      0.247317\n      2      0.141343\nc     1      0.698626\n      2      0.075649\nb     1      0.861292\n      2      0.541994\ndtype: float64"
     },
     "execution_count": 47,
     "metadata": {},
     "output_type": "execute_result"
    }
   ],
   "source": [
    "# Rearranging Multi-Indices\n",
    "# Sorted and Unsorted indices\n",
    "index = pd.MultiIndex.from_product([['a','c','b'],[1,2]])\n",
    "data = pd.Series(np.random.rand(6), index=index)\n",
    "data.index.names = ['char', 'int']\n",
    "data"
   ]
  },
  {
   "cell_type": "code",
   "execution_count": 49,
   "metadata": {},
   "outputs": [
    {
     "name": "stdout",
     "output_type": "stream",
     "text": "<class 'pandas.errors.UnsortedIndexError'>\n'Key length (1) was greater than MultiIndex lexsort depth (0)'\n"
    }
   ],
   "source": [
    "# if we try to take a partial slice of the indices which are not sorted lexographically then it will generate a keyerror\n",
    "try:\n",
    "    data['a':'b']\n",
    "except KeyError as e:\n",
    "    print(type(e))\n",
    "    print(e)"
   ]
  },
  {
   "cell_type": "code",
   "execution_count": 52,
   "metadata": {},
   "outputs": [
    {
     "data": {
      "text/plain": "char  int\na     1      0.247317\n      2      0.141343\nb     1      0.861292\n      2      0.541994\ndtype: float64"
     },
     "execution_count": 52,
     "metadata": {},
     "output_type": "execute_result"
    }
   ],
   "source": [
    "data = data.sort_index()\n",
    "data['a':'b']"
   ]
  },
  {
   "cell_type": "code",
   "execution_count": 56,
   "metadata": {},
   "outputs": [
    {
     "data": {
      "text/html": "<div>\n<style scoped>\n    .dataframe tbody tr th:only-of-type {\n        vertical-align: middle;\n    }\n\n    .dataframe tbody tr th {\n        vertical-align: top;\n    }\n\n    .dataframe thead th {\n        text-align: right;\n    }\n</style>\n<table border=\"1\" class=\"dataframe\">\n  <thead>\n    <tr style=\"text-align: right;\">\n      <th></th>\n      <th>state</th>\n      <th>year</th>\n      <th>population</th>\n    </tr>\n  </thead>\n  <tbody>\n    <tr>\n      <th>0</th>\n      <td>California</td>\n      <td>2000</td>\n      <td>33871648</td>\n    </tr>\n    <tr>\n      <th>1</th>\n      <td>California</td>\n      <td>2010</td>\n      <td>37253956</td>\n    </tr>\n    <tr>\n      <th>2</th>\n      <td>New York</td>\n      <td>2000</td>\n      <td>18976457</td>\n    </tr>\n    <tr>\n      <th>3</th>\n      <td>New York</td>\n      <td>2010</td>\n      <td>19378102</td>\n    </tr>\n    <tr>\n      <th>4</th>\n      <td>Texas</td>\n      <td>2000</td>\n      <td>20851820</td>\n    </tr>\n    <tr>\n      <th>5</th>\n      <td>Texas</td>\n      <td>2010</td>\n      <td>25145561</td>\n    </tr>\n  </tbody>\n</table>\n</div>",
      "text/plain": "        state  year  population\n0  California  2000    33871648\n1  California  2010    37253956\n2    New York  2000    18976457\n3    New York  2010    19378102\n4       Texas  2000    20851820\n5       Texas  2010    25145561"
     },
     "execution_count": 56,
     "metadata": {},
     "output_type": "execute_result"
    }
   ],
   "source": [
    "# Index setting and resetting\n",
    "pop_flat = pop.reset_index(name='population')\n",
    "pop_flat"
   ]
  },
  {
   "cell_type": "code",
   "execution_count": 57,
   "metadata": {},
   "outputs": [
    {
     "data": {
      "text/html": "<div>\n<style scoped>\n    .dataframe tbody tr th:only-of-type {\n        vertical-align: middle;\n    }\n\n    .dataframe tbody tr th {\n        vertical-align: top;\n    }\n\n    .dataframe thead th {\n        text-align: right;\n    }\n</style>\n<table border=\"1\" class=\"dataframe\">\n  <thead>\n    <tr style=\"text-align: right;\">\n      <th></th>\n      <th></th>\n      <th>population</th>\n    </tr>\n    <tr>\n      <th>state</th>\n      <th>year</th>\n      <th></th>\n    </tr>\n  </thead>\n  <tbody>\n    <tr>\n      <th rowspan=\"2\" valign=\"top\">California</th>\n      <th>2000</th>\n      <td>33871648</td>\n    </tr>\n    <tr>\n      <th>2010</th>\n      <td>37253956</td>\n    </tr>\n    <tr>\n      <th rowspan=\"2\" valign=\"top\">New York</th>\n      <th>2000</th>\n      <td>18976457</td>\n    </tr>\n    <tr>\n      <th>2010</th>\n      <td>19378102</td>\n    </tr>\n    <tr>\n      <th rowspan=\"2\" valign=\"top\">Texas</th>\n      <th>2000</th>\n      <td>20851820</td>\n    </tr>\n    <tr>\n      <th>2010</th>\n      <td>25145561</td>\n    </tr>\n  </tbody>\n</table>\n</div>",
      "text/plain": "                 population\nstate      year            \nCalifornia 2000    33871648\n           2010    37253956\nNew York   2000    18976457\n           2010    19378102\nTexas      2000    20851820\n           2010    25145561"
     },
     "execution_count": 57,
     "metadata": {},
     "output_type": "execute_result"
    }
   ],
   "source": [
    "pop_flat.set_index(['state','year'])"
   ]
  },
  {
   "cell_type": "code",
   "execution_count": 59,
   "metadata": {},
   "outputs": [
    {
     "data": {
      "text/html": "<div>\n<style scoped>\n    .dataframe tbody tr th:only-of-type {\n        vertical-align: middle;\n    }\n\n    .dataframe tbody tr th {\n        vertical-align: top;\n    }\n\n    .dataframe thead tr th {\n        text-align: left;\n    }\n\n    .dataframe thead tr:last-of-type th {\n        text-align: right;\n    }\n</style>\n<table border=\"1\" class=\"dataframe\">\n  <thead>\n    <tr>\n      <th>subject</th>\n      <th colspan=\"2\" halign=\"left\">Bob</th>\n      <th colspan=\"2\" halign=\"left\">Guido</th>\n      <th colspan=\"2\" halign=\"left\">Sue</th>\n    </tr>\n    <tr>\n      <th>type</th>\n      <th>HR</th>\n      <th>Temp</th>\n      <th>HR</th>\n      <th>Temp</th>\n      <th>HR</th>\n      <th>Temp</th>\n    </tr>\n    <tr>\n      <th>year</th>\n      <th></th>\n      <th></th>\n      <th></th>\n      <th></th>\n      <th></th>\n      <th></th>\n    </tr>\n  </thead>\n  <tbody>\n    <tr>\n      <th>2013</th>\n      <td>40.5</td>\n      <td>37.60</td>\n      <td>38.0</td>\n      <td>38.0</td>\n      <td>45.0</td>\n      <td>38.05</td>\n    </tr>\n    <tr>\n      <th>2014</th>\n      <td>29.0</td>\n      <td>37.05</td>\n      <td>30.0</td>\n      <td>36.5</td>\n      <td>28.5</td>\n      <td>38.35</td>\n    </tr>\n  </tbody>\n</table>\n</div>",
      "text/plain": "subject   Bob        Guido         Sue       \ntype       HR   Temp    HR  Temp    HR   Temp\nyear                                         \n2013     40.5  37.60  38.0  38.0  45.0  38.05\n2014     29.0  37.05  30.0  36.5  28.5  38.35"
     },
     "execution_count": 59,
     "metadata": {},
     "output_type": "execute_result"
    }
   ],
   "source": [
    "# Data Aggregation on Multi-indices\n",
    "data_mean = health_data.mean(level=\"year\")\n",
    "data_mean"
   ]
  },
  {
   "cell_type": "code",
   "execution_count": 60,
   "metadata": {},
   "outputs": [
    {
     "data": {
      "text/html": "<div>\n<style scoped>\n    .dataframe tbody tr th:only-of-type {\n        vertical-align: middle;\n    }\n\n    .dataframe tbody tr th {\n        vertical-align: top;\n    }\n\n    .dataframe thead th {\n        text-align: right;\n    }\n</style>\n<table border=\"1\" class=\"dataframe\">\n  <thead>\n    <tr style=\"text-align: right;\">\n      <th>type</th>\n      <th>HR</th>\n      <th>Temp</th>\n    </tr>\n    <tr>\n      <th>year</th>\n      <th></th>\n      <th></th>\n    </tr>\n  </thead>\n  <tbody>\n    <tr>\n      <th>2013</th>\n      <td>41.166667</td>\n      <td>37.883333</td>\n    </tr>\n    <tr>\n      <th>2014</th>\n      <td>29.166667</td>\n      <td>37.300000</td>\n    </tr>\n  </tbody>\n</table>\n</div>",
      "text/plain": "type         HR       Temp\nyear                      \n2013  41.166667  37.883333\n2014  29.166667  37.300000"
     },
     "execution_count": 60,
     "metadata": {},
     "output_type": "execute_result"
    }
   ],
   "source": [
    "data_mean.mean(axis=1, level='type')"
   ]
  },
  {
   "cell_type": "code",
   "execution_count": null,
   "metadata": {},
   "outputs": [],
   "source": []
  }
 ]
}