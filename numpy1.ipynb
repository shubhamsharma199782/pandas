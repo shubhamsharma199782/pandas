{
 "nbformat": 4,
 "nbformat_minor": 2,
 "metadata": {
  "language_info": {
   "name": "python",
   "codemirror_mode": {
    "name": "ipython",
    "version": 3
   },
   "version": "3.7.0-final"
  },
  "orig_nbformat": 2,
  "file_extension": ".py",
  "mimetype": "text/x-python",
  "name": "python",
  "npconvert_exporter": "python",
  "pygments_lexer": "ipython3",
  "version": 3,
  "kernelspec": {
   "name": "python37064bit6dca8533efbe440b879782639ebf8130",
   "display_name": "Python 3.7.0 64-bit"
  }
 },
 "cells": [
  {
   "cell_type": "code",
   "execution_count": 1,
   "metadata": {},
   "outputs": [],
   "source": [
    "import numpy as np"
   ]
  },
  {
   "cell_type": "code",
   "execution_count": 6,
   "metadata": {},
   "outputs": [
    {
     "name": "stdout",
     "output_type": "stream",
     "text": "[3.14 1.   3.4  5.  ]\n[1 2 3 4 5 6 9 3]\n"
    }
   ],
   "source": [
    "# List to array\n",
    "list_data = [1,2,3,4,5,6,9,3]\n",
    "print(np.array([3.14, 1, 3.4, 5]))\n",
    "print(np.array(list_data))"
   ]
  },
  {
   "cell_type": "code",
   "execution_count": 5,
   "metadata": {},
   "outputs": [
    {
     "name": "stdout",
     "output_type": "stream",
     "text": "[1. 2. 3. 4. 5. 6. 9. 3.]\n[ True  True  True  True  True  True  True  True]\n"
    }
   ],
   "source": [
    "# Specifying data of array\n",
    "print(np.array(list_data, dtype=\"float32\"))\n",
    "print(np.array(list_data, dtype=\"bool\"))"
   ]
  },
  {
   "cell_type": "code",
   "execution_count": 10,
   "metadata": {},
   "outputs": [
    {
     "data": {
      "text/plain": "array([[ 2,  3,  4,  5,  6,  7,  8],\n       [ 3,  4,  5,  6,  7,  8,  9],\n       [ 4,  5,  6,  7,  8,  9, 10],\n       [ 5,  6,  7,  8,  9, 10, 11]])"
     },
     "execution_count": 10,
     "metadata": {},
     "output_type": "execute_result"
    }
   ],
   "source": [
    "# Nested list result in multi-dimensional array\n",
    "np.array([range(i,i+7) for i in range(2,6)])"
   ]
  },
  {
   "cell_type": "code",
   "execution_count": 17,
   "metadata": {},
   "outputs": [
    {
     "name": "stdout",
     "output_type": "stream",
     "text": "[0 0 0 0 0 0 0 0 0 0]\n[[0. 0. 0. 0.]\n [0. 0. 0. 0.]\n [0. 0. 0. 0.]]\n"
    }
   ],
   "source": [
    "### Creating Array From Scratch\n",
    "\n",
    "# Array containing Zeros only\n",
    "print(np.zeros(10, dtype=\"int\"))\n",
    "print(np.zeros((3,4), dtype=\"float32\"))"
   ]
  },
  {
   "source": [
    "# cretate a 3*5 floating point array filled with ones\n",
    "np.ones((3,5), dtype=float)"
   ],
   "cell_type": "code",
   "outputs": [
    {
     "output_type": "execute_result",
     "data": {
      "text/plain": "array([[1., 1., 1., 1., 1.],\n       [1., 1., 1., 1., 1.],\n       [1., 1., 1., 1., 1.]])"
     },
     "metadata": {},
     "execution_count": 63
    }
   ],
   "metadata": {},
   "execution_count": 63
  },
  {
   "cell_type": "code",
   "execution_count": 22,
   "metadata": {},
   "outputs": [
    {
     "data": {
      "text/plain": "array([[3.14, 3.14, 3.14, 3.14, 3.14],\n       [3.14, 3.14, 3.14, 3.14, 3.14],\n       [3.14, 3.14, 3.14, 3.14, 3.14]])"
     },
     "execution_count": 22,
     "metadata": {},
     "output_type": "execute_result"
    }
   ],
   "source": [
    "# create a 3*5 array filled with 3.14\n",
    "np.full((3,5),3.14)"
   ]
  },
  {
   "cell_type": "code",
   "execution_count": 23,
   "metadata": {},
   "outputs": [
    {
     "data": {
      "text/plain": "array([0.  , 0.25, 0.5 , 0.75, 1.  ])"
     },
     "execution_count": 23,
     "metadata": {},
     "output_type": "execute_result"
    }
   ],
   "source": [
    "# create a array of five values evenly spaced between two numbers\n",
    "np.linspace(0,1,5)"
   ]
  },
  {
   "cell_type": "code",
   "execution_count": 24,
   "metadata": {},
   "outputs": [
    {
     "data": {
      "text/plain": "array([ 0,  2,  4,  6,  8, 10, 12, 14, 16, 18])"
     },
     "execution_count": 24,
     "metadata": {},
     "output_type": "execute_result"
    }
   ],
   "source": [
    "# create array filled with a linear sequence start=0 , end=20 and stepping =2\n",
    "np.arange(0,20,2)"
   ]
  },
  {
   "cell_type": "code",
   "execution_count": 25,
   "metadata": {},
   "outputs": [
    {
     "data": {
      "text/plain": "array([[0.55311366, 0.31782966, 0.23576819],\n       [0.57576996, 0.87571231, 0.78454258],\n       [0.10688291, 0.11348455, 0.65843786]])"
     },
     "execution_count": 25,
     "metadata": {},
     "output_type": "execute_result"
    }
   ],
   "source": [
    "# create 3*3 array of uniformaly distributed random values b/w 0&1\n",
    "np.random.random((3,3))"
   ]
  },
  {
   "cell_type": "code",
   "execution_count": 54,
   "metadata": {},
   "outputs": [
    {
     "name": "stdout",
     "output_type": "stream",
     "text": "[[ 1.45779457 -0.02214976  1.04204867]\n [-0.1826704   1.07227391  0.19119282]\n [ 0.4494098  -1.27817897  0.18939192]]\n0.6232172917449824\n0.7714339796269312\n"
    }
   ],
   "source": [
    "# create 3*3 array of normally distrubuted random values with mean 0 and standard deviation 1\n",
    "data = np.random.normal(0,1,(3,3))\n",
    "print(data)\n",
    "print(data[0].std())\n",
    "print(data.std())"
   ]
  },
  {
   "cell_type": "code",
   "execution_count": 57,
   "metadata": {},
   "outputs": [
    {
     "data": {
      "text/plain": "array([[7, 4, 6],\n       [4, 4, 8],\n       [2, 0, 8]])"
     },
     "execution_count": 57,
     "metadata": {},
     "output_type": "execute_result"
    }
   ],
   "source": [
    "# create a 3*3 array of random integers in the interval [0,10)\n",
    "np.random.randint(0,10,(3,3))"
   ]
  },
  {
   "cell_type": "code",
   "execution_count": 59,
   "metadata": {},
   "outputs": [
    {
     "data": {
      "text/plain": "array([[1, 0, 0],\n       [0, 1, 0],\n       [0, 0, 1]])"
     },
     "execution_count": 59,
     "metadata": {},
     "output_type": "execute_result"
    }
   ],
   "source": [
    "# create 3*3 identity matrix\n",
    "np.eye(3, dtype=int)"
   ]
  },
  {
   "cell_type": "code",
   "execution_count": 62,
   "metadata": {},
   "outputs": [
    {
     "data": {
      "text/plain": "array([1., 1., 1.])"
     },
     "execution_count": 62,
     "metadata": {},
     "output_type": "execute_result"
    }
   ],
   "source": [
    "# create an uninitiallized array of three integer\n",
    "np.empty(3)"
   ]
  },
  {
   "cell_type": "code",
   "execution_count": null,
   "metadata": {},
   "outputs": [],
   "source": []
  }
 ]
}