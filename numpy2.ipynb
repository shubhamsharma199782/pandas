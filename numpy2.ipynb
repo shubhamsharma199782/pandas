{
 "nbformat": 4,
 "nbformat_minor": 2,
 "metadata": {
  "language_info": {
   "name": "python",
   "codemirror_mode": {
    "name": "ipython",
    "version": 3
   },
   "version": "3.7.0-final"
  },
  "orig_nbformat": 2,
  "file_extension": ".py",
  "mimetype": "text/x-python",
  "name": "python",
  "npconvert_exporter": "python",
  "pygments_lexer": "ipython3",
  "version": 3,
  "kernelspec": {
   "name": "python37064bit6dca8533efbe440b879782639ebf8130",
   "display_name": "Python 3.7.0 64-bit"
  }
 },
 "cells": [
  {
   "cell_type": "code",
   "execution_count": 1,
   "metadata": {},
   "outputs": [],
   "source": [
    "# BASIC NUMPY ARRAYS\n",
    "import numpy as np"
   ]
  },
  {
   "cell_type": "code",
   "execution_count": 10,
   "metadata": {},
   "outputs": [
    {
     "name": "stdout",
     "output_type": "stream",
     "text": "1 (6,) 6 int64\n2 (3, 4) 12 int64\n3 (2, 4, 3) 24 int64\n"
    }
   ],
   "source": [
    "# attributes of np array such as ndim, shape, size, dtype\n",
    "x1 = np.random.randint(10, size=6)\n",
    "x2 = np.random.randint(10, size=(3,4))\n",
    "x3 = np.random.randint(10, size=(2,4,3))\n",
    "print(x1.ndim, x1.shape, x1.size, x1.dtype)\n",
    "print(x2.ndim, x2.shape, x2.size, x2.dtype)\n",
    "print(x3.ndim, x3.shape, x3.size, x3.dtype)"
   ]
  },
  {
   "cell_type": "code",
   "execution_count": 11,
   "metadata": {},
   "outputs": [
    {
     "data": {
      "text/plain": "(8, 96)"
     },
     "execution_count": 11,
     "metadata": {},
     "output_type": "execute_result"
    }
   ],
   "source": [
    "# other attributes of np array , itemsize = lists the size (in bytes) of each array element\n",
    "#                               nbytes = which lists the total size(in bytes) of the array\n",
    "x2.itemsize, x2.nbytes"
   ]
  },
  {
   "cell_type": "code",
   "execution_count": 17,
   "metadata": {},
   "outputs": [
    {
     "name": "stdout",
     "output_type": "stream",
     "text": "3 6\n[3 4 4 4 1 6]\n6\n9\n"
    }
   ],
   "source": [
    "# Array Indexing \n",
    "# Accessing single element\n",
    "print(x1[0], x1[-1])\n",
    "x1[0] = 3.14\n",
    "print(x1)\n",
    "\n",
    "# In Multidimensional array, access element using a tuple ',' seperated\n",
    "print(x3[0,0,2])\n",
    "print(x2[0,0])"
   ]
  },
  {
   "cell_type": "code",
   "execution_count": 20,
   "metadata": {},
   "outputs": [
    {
     "name": "stdout",
     "output_type": "stream",
     "text": "[0 1 2 3 4]\n[5 6 7 8 9]\n[4 5 6]\n[0 2 4 6 8]\n"
    }
   ],
   "source": [
    "# array slicing ;- accessing subarrays ( x[start: stop: step] )\n",
    "x = np.arange(10)\n",
    "print(x[:5])\n",
    "print(x[5:])\n",
    "print(x[4:7])\n",
    "print(x[::2])"
   ]
  },
  {
   "cell_type": "code",
   "execution_count": 24,
   "metadata": {},
   "outputs": [
    {
     "name": "stdout",
     "output_type": "stream",
     "text": "[[9 3 9]\n [0 6 9]]\n[[9 3 9 8]\n [0 6 9 5]\n [1 1 3 4]]\n[[9 8]\n [9 5]]\n"
    }
   ],
   "source": [
    "# accessing multi dimensional array\n",
    "print(x2[:2, :3])\n",
    "\n",
    "# sub array of 2*2 from x2\n",
    "print(x2)\n",
    "x2_sub = x2[:2,2:]\n",
    "print(x2_sub)"
   ]
  },
  {
   "cell_type": "code",
   "execution_count": 25,
   "metadata": {},
   "outputs": [
    {
     "data": {
      "text/plain": "array([[9, 3],\n       [0, 6]])"
     },
     "execution_count": 25,
     "metadata": {},
     "output_type": "execute_result"
    }
   ],
   "source": [
    "# creating copy of array, if you create sub array then changes in sub array will also effect the main array but copy will create a seperate array and changes in sub array will not effect the main array\n",
    "x2_sub_copy = x2[:2,:2].copy()\n",
    "x2_sub_copy"
   ]
  },
  {
   "cell_type": "code",
   "execution_count": 36,
   "metadata": {},
   "outputs": [
    {
     "name": "stdout",
     "output_type": "stream",
     "text": "[[1 2 3]\n [4 5 6]\n [7 8 9]]\n"
    },
    {
     "data": {
      "text/plain": "array([[ 1,  2,  3,  4],\n       [ 5,  6,  7,  8],\n       [ 9, 10, 11, 12],\n       [13, 14, 15, 16]])"
     },
     "execution_count": 36,
     "metadata": {},
     "output_type": "execute_result"
    }
   ],
   "source": [
    "# reshaping of array\n",
    "# grid = np.array([1,2,3,4,5,6,7,8,9]).reshape((3,3))\n",
    "grid = np.arange(1,10).reshape((3,3))\n",
    "print(grid)\n",
    "np.arange(1,17).reshape(4,4)"
   ]
  },
  {
   "cell_type": "code",
   "execution_count": 49,
   "metadata": {},
   "outputs": [
    {
     "name": "stdout",
     "output_type": "stream",
     "text": "[3 4 4 4 1 6 0 1 2 3 4 5 6 7 8 9]\n[[[7 8 6]\n  [8 9 3]\n  [7 2 8]\n  [9 8 2]]\n\n [[3 1 1]\n  [0 1 7]\n  [9 7 1]\n  [3 6 9]]]\n"
    },
    {
     "data": {
      "text/plain": "array([[7, 8, 6],\n       [8, 9, 3],\n       [7, 2, 8],\n       [9, 8, 2],\n       [3, 1, 1],\n       [0, 1, 7],\n       [9, 7, 1],\n       [3, 6, 9]])"
     },
     "execution_count": 49,
     "metadata": {},
     "output_type": "execute_result"
    }
   ],
   "source": [
    "# concatenation of arrays , np.concatenate, np.vstack, np.hstack\n",
    "print(np.concatenate([x1,x]))\n",
    "print(x3)\n",
    "np.vstack(x3)"
   ]
  },
  {
   "cell_type": "code",
   "execution_count": 53,
   "metadata": {},
   "outputs": [
    {
     "name": "stdout",
     "output_type": "stream",
     "text": "x =  [0 1 2 3 4 5 6 7 8 9]\n"
    },
    {
     "data": {
      "text/plain": "(array([0, 1, 2]), array([3, 4]), array([5, 6, 7, 8, 9]))"
     },
     "execution_count": 53,
     "metadata": {},
     "output_type": "execute_result"
    }
   ],
   "source": [
    "# splitting arrays, np.split, np.hsplit, np.vsplit\n",
    "print(\"x = \",x)\n",
    "xa, xb, xc = np.split(x, [3,5])\n",
    "xa, xb, xc"
   ]
  },
  {
   "cell_type": "code",
   "execution_count": null,
   "metadata": {},
   "outputs": [],
   "source": []
  },
  {
   "cell_type": "code",
   "execution_count": null,
   "metadata": {},
   "outputs": [],
   "source": []
  },
  {
   "cell_type": "code",
   "execution_count": null,
   "metadata": {},
   "outputs": [],
   "source": []
  },
  {
   "cell_type": "code",
   "execution_count": null,
   "metadata": {},
   "outputs": [],
   "source": []
  }
 ]
}