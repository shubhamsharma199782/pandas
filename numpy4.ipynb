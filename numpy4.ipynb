{
 "nbformat": 4,
 "nbformat_minor": 2,
 "metadata": {
  "language_info": {
   "name": "python",
   "codemirror_mode": {
    "name": "ipython",
    "version": 3
   },
   "version": "3.7.0-final"
  },
  "orig_nbformat": 2,
  "file_extension": ".py",
  "mimetype": "text/x-python",
  "name": "python",
  "npconvert_exporter": "python",
  "pygments_lexer": "ipython3",
  "version": 3,
  "kernelspec": {
   "name": "python37064bit6dca8533efbe440b879782639ebf8130",
   "display_name": "Python 3.7.0 64-bit"
  }
 },
 "cells": [
  {
   "cell_type": "code",
   "execution_count": 1,
   "metadata": {},
   "outputs": [],
   "source": [
    "import numpy as np "
   ]
  },
  {
   "cell_type": "code",
   "execution_count": 14,
   "metadata": {},
   "outputs": [
    {
     "data": {
      "text/plain": "array([5, 6, 7, 8])"
     },
     "execution_count": 14,
     "metadata": {},
     "output_type": "execute_result"
    }
   ],
   "source": [
    "# Arrays Broadcasting\n",
    "# -> broadcasting is simply a set of rules for applying binary ufuncs (eg. addition, subtraction, multiplication etc) on arrays of different sizes\n",
    "\n",
    "x = np.array([0,1,2,3])\n",
    "x+5\n",
    "\n",
    "# [0,1,2,3]+[5]\n",
    "# --------------\n",
    "# [0,1,2,3]\n",
    "# [5,5,5,5]\n",
    "# -------------\n",
    "# [5,6,7,8]\n",
    "# -------------\n"
   ]
  },
  {
   "cell_type": "code",
   "execution_count": 13,
   "metadata": {},
   "outputs": [
    {
     "name": "stdout",
     "output_type": "stream",
     "text": "[[1. 2. 3. 4.]\n [1. 2. 3. 4.]\n [1. 2. 3. 4.]]\n"
    }
   ],
   "source": [
    "m = np.ones((3,4))\n",
    "print(m+x)\n",
    "\n",
    "# [[1. 1. 1. 1.]\n",
    "#  [1. 1. 1. 1.]\n",
    "#  [1. 1. 1. 1.]] + [0,1,2,3]\n",
    "# ---------------\n",
    "#  [[1. 1. 1. 1.]  + [[0,1,2,3]\n",
    "#   [1. 1. 1. 1.]  +  [0,1,2,3]\n",
    "#   [1. 1. 1. 1.]] +  [0,1,2,3]]\n",
    "# ----------------\n",
    "# [[1. 2. 3. 4.]\n",
    "#  [1. 2. 3. 4.]\n",
    "#  [1. 2. 3. 4.]]\n",
    "# ---------------"
   ]
  },
  {
   "cell_type": "code",
   "execution_count": 19,
   "metadata": {},
   "outputs": [
    {
     "data": {
      "text/plain": "array([[0, 1, 2, 3]])"
     },
     "execution_count": 19,
     "metadata": {},
     "output_type": "execute_result"
    }
   ],
   "source": [
    "x.reshape(1,4)"
   ]
  },
  {
   "cell_type": "code",
   "execution_count": 30,
   "metadata": {},
   "outputs": [
    {
     "name": "stdout",
     "output_type": "stream",
     "text": "Mask  =  [ True  True False False]\nNon Zero count =  2\nnonzero using sum method =  2\nall less then 10  True\n"
    }
   ],
   "source": [
    "# Comparision, Masks and Boolean logic\n",
    "print(\"Mask  = \",x<2)\n",
    "\n",
    "# counting entries\n",
    "# -> count the no of True entries in boolean array\n",
    "print(\"Non Zero count = \",np.count_nonzero(x<2))\n",
    "\n",
    "# We can use sum method as well as True means 1 and false means 0\n",
    "print(\"nonzero using sum method = \", np.sum(x<2))\n",
    "\n",
    "# any and all\n",
    "print(\"all less then 10 = \", np.all(x<10))"
   ]
  },
  {
   "cell_type": "code",
   "execution_count": 34,
   "metadata": {},
   "outputs": [
    {
     "name": "stdout",
     "output_type": "stream",
     "text": "x =  [24 37 23 14 83 17 12 44 96 98 48 59  3 36 83 50 87 35 95 46 37 18 54  3\n 18 47 28 79 44 81  1 21 94 32 58 13 73 48 88 94]\n10\n"
    }
   ],
   "source": [
    "# boolean operations\n",
    "x = np.random.randint(1,100, size=40)\n",
    "print(\"x = \", x)\n",
    "print(np.sum((x > 40) & (x <60)))"
   ]
  },
  {
   "cell_type": "code",
   "execution_count": 43,
   "metadata": {},
   "outputs": [
    {
     "name": "stdout",
     "output_type": "stream",
     "text": "[[1 2]]\n"
    }
   ],
   "source": [
    "matrix = np.matrix([[1,2,3],[4,5,6]])\n",
    "print(matrix[0,:2])"
   ]
  },
  {
   "cell_type": "code",
   "execution_count": null,
   "metadata": {},
   "outputs": [],
   "source": []
  },
  {
   "cell_type": "code",
   "execution_count": null,
   "metadata": {},
   "outputs": [],
   "source": []
  },
  {
   "cell_type": "code",
   "execution_count": null,
   "metadata": {},
   "outputs": [],
   "source": []
  },
  {
   "cell_type": "code",
   "execution_count": null,
   "metadata": {},
   "outputs": [],
   "source": []
  }
 ]
}