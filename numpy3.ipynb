{
 "nbformat": 4,
 "nbformat_minor": 2,
 "metadata": {
  "language_info": {
   "name": "python",
   "codemirror_mode": {
    "name": "ipython",
    "version": 3
   },
   "version": "3.7.0-final"
  },
  "orig_nbformat": 2,
  "file_extension": ".py",
  "mimetype": "text/x-python",
  "name": "python",
  "npconvert_exporter": "python",
  "pygments_lexer": "ipython3",
  "version": 3,
  "kernelspec": {
   "name": "python37064bit6dca8533efbe440b879782639ebf8130",
   "display_name": "Python 3.7.0 64-bit"
  }
 },
 "cells": [
  {
   "cell_type": "code",
   "execution_count": 1,
   "metadata": {},
   "outputs": [],
   "source": [
    "import numpy as np "
   ]
  },
  {
   "cell_type": "code",
   "execution_count": 7,
   "metadata": {},
   "outputs": [
    {
     "name": "stdout",
     "output_type": "stream",
     "text": "[0 1 2 3 4] [1 2 3 4 5]\n"
    },
    {
     "data": {
      "text/plain": "array([ 0,  2,  6, 12, 20])"
     },
     "execution_count": 7,
     "metadata": {},
     "output_type": "execute_result"
    }
   ],
   "source": [
    "# Ufunc in numpy\n",
    "# operations linke +, -, / , * , // , ** , % can be performed on numpy arrays for fast computation\n",
    "x1 = np.arange(5)\n",
    "x2 = np.arange(1,6)\n",
    "print(x1 , x2)\n",
    "x3 = x1*x2\n",
    "x3"
   ]
  },
  {
   "cell_type": "code",
   "execution_count": 11,
   "metadata": {},
   "outputs": [
    {
     "name": "stdout",
     "output_type": "stream",
     "text": "[1 3 5 7 9]\n[0 0 0 0 0]\n[-1 -1 -1 -1 -1]\n"
    }
   ],
   "source": [
    "# We have corrosponding methods in numpy , like add(), subtract() etc\n",
    "print(np.add(x1,x2))\n",
    "print(np.floor_divide(x1,x2))\n",
    "print(np.subtract(x1,x2))"
   ]
  },
  {
   "cell_type": "code",
   "execution_count": 12,
   "metadata": {},
   "outputs": [
    {
     "data": {
      "text/plain": "array([1, 1, 1, 1, 1])"
     },
     "execution_count": 12,
     "metadata": {},
     "output_type": "execute_result"
    }
   ],
   "source": [
    "# we can use np.abs() or np.absolute()\n",
    "np.abs(np.subtract(x1,x2))"
   ]
  },
  {
   "cell_type": "code",
   "execution_count": 13,
   "metadata": {},
   "outputs": [
    {
     "name": "stdout",
     "output_type": "stream",
     "text": "Theta values =  [0.         1.57079633 3.14159265]\nsin =  [0.0000000e+00 1.0000000e+00 1.2246468e-16]\ncos =  [ 1.000000e+00  6.123234e-17 -1.000000e+00]\ntan =  [ 0.00000000e+00  1.63312394e+16 -1.22464680e-16]\n"
    }
   ],
   "source": [
    "# Trigonometric functions in numpy\n",
    "theta = np.linspace(0, np.pi, 3)\n",
    "print(\"Theta values = \", theta)\n",
    "print(\"sin = \", np.sin(theta))\n",
    "print(\"cos = \", np.cos(theta))\n",
    "print(\"tan = \", np.tan(theta))"
   ]
  },
  {
   "cell_type": "code",
   "execution_count": 14,
   "metadata": {},
   "outputs": [
    {
     "data": {
      "text/plain": "(array([ 0., nan, nan]),\n array([1.57079633,        nan,        nan]),\n array([0.        , 1.00388482, 1.26262726]))"
     },
     "execution_count": 14,
     "metadata": {},
     "output_type": "execute_result"
    }
   ],
   "source": [
    "# Inverse Trigonometric functions in numpy\n",
    "np.arcsin(theta), np.arccos(theta), np.arctan(theta)"
   ]
  },
  {
   "cell_type": "code",
   "execution_count": 19,
   "metadata": {},
   "outputs": [
    {
     "name": "stdout",
     "output_type": "stream",
     "text": "e^x =  [ 2.71828183  7.3890561  20.08553692]\n2^x =  [2. 4. 8.]\nn^x =  [ 3  9 27]\n[0.         0.69314718 1.09861229]\n[0.        1.        1.5849625]\n[0.         0.30103    0.47712125]\n"
    }
   ],
   "source": [
    "# Exponents and logarithms in numpy\n",
    "x = [1,2,3]\n",
    "print(\"e^x = \", np.exp(x))  # e^x\n",
    "print(\"2^x = \", np.exp2(x))\n",
    "print(\"n^x = \", np.power(3, x))\n",
    "\n",
    "# logs\n",
    "print(np.log(x))\n",
    "print(np.log2(x))\n",
    "print(np.log10(x))"
   ]
  },
  {
   "cell_type": "code",
   "execution_count": 21,
   "metadata": {},
   "outputs": [
    {
     "name": "stdout",
     "output_type": "stream",
     "text": "[0.00000000e+00 1.00050017e-03 1.00005000e-04 1.05170918e-01]\n[1.         1.0010005  1.00010001 1.10517092]\n"
    }
   ],
   "source": [
    "x = [0, 0.001, 0.0001, 0.1]\n",
    "print(np.expm1(x))\n",
    "print(np.exp(x))"
   ]
  },
  {
   "cell_type": "code",
   "execution_count": 25,
   "metadata": {},
   "outputs": [
    {
     "name": "stdout",
     "output_type": "stream",
     "text": "y =  [0 1 2 3 4]\ny =  [ 0 10 20 30 40]\ny =  [ 1.  0.  2.  0.  4.  0.  8.  0. 16.  0.]\n"
    }
   ],
   "source": [
    "#  Specifying Output in arrays\n",
    "x = np.arange(5)\n",
    "y = np.arange(5)\n",
    "print(\"y = \",y)\n",
    "np.multiply(x, 10, out=y)\n",
    "print(\"y = \",y)\n",
    "y = np.zeros(10)\n",
    "np.power(2,x, out=y[::2])\n",
    "print(\"y = \",y)"
   ]
  },
  {
   "cell_type": "code",
   "execution_count": 31,
   "metadata": {},
   "outputs": [
    {
     "name": "stdout",
     "output_type": "stream",
     "text": "Reduced x addition =  15\nmultiply all elements of x (reduce)  120\n"
    }
   ],
   "source": [
    "# Aggregates\n",
    "x = np.arange(1,6)\n",
    "print(\"Reduced x addition = \",np.add.reduce(x))\n",
    "print(\"multiply all elements of x (reduce) = \", np.multiply.reduce(x))"
   ]
  },
  {
   "cell_type": "code",
   "execution_count": 32,
   "metadata": {},
   "outputs": [
    {
     "data": {
      "text/plain": "array([ 1,  3,  6, 10, 15])"
     },
     "execution_count": 32,
     "metadata": {},
     "output_type": "execute_result"
    }
   ],
   "source": [
    "# to store all the intermediate results of computation , we can use accumulate() , cf\n",
    "np.add.accumulate(x)"
   ]
  },
  {
   "cell_type": "code",
   "execution_count": 38,
   "metadata": {},
   "outputs": [
    {
     "name": "stdout",
     "output_type": "stream",
     "text": "sum of elements  =        15\nproduct =                 120\nmean =                    3.0\nstandard deviation =      1.4142135623730951\nvariance =                2.0\nminimum =                 1\nmaximum =                 5\nindex of min =            0\nindex of max =            4\nmedian =                  3.0\nany value true =          True\nall value true =          True\n"
    }
   ],
   "source": [
    "print(\"sum of elements  =       \", np.sum(x))\n",
    "print(\"product =                \", np.prod(x))\n",
    "print(\"mean =                   \", np.mean(x))\n",
    "print(\"standard deviation =     \", np.std(x))\n",
    "print(\"variance =               \", np.var(x))\n",
    "print(\"minimum =                \", np.min(x))\n",
    "print(\"maximum =                \", np.max(x))\n",
    "print(\"index of min =           \", np.argmin(x))\n",
    "print(\"index of max =           \", np.argmax(x))\n",
    "print(\"median =                 \", np.median(x))\n",
    "print(\"any value true =         \", np.any(x))\n",
    "print(\"all value true =         \", np.all(x))"
   ]
  },
  {
   "cell_type": "code",
   "execution_count": null,
   "metadata": {},
   "outputs": [],
   "source": []
  },
  {
   "cell_type": "code",
   "execution_count": null,
   "metadata": {},
   "outputs": [],
   "source": []
  },
  {
   "cell_type": "code",
   "execution_count": null,
   "metadata": {},
   "outputs": [],
   "source": []
  },
  {
   "cell_type": "code",
   "execution_count": null,
   "metadata": {},
   "outputs": [],
   "source": []
  }
 ]
}