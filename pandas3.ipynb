{
 "nbformat": 4,
 "nbformat_minor": 2,
 "metadata": {
  "language_info": {
   "name": "python",
   "codemirror_mode": {
    "name": "ipython",
    "version": 3
   },
   "version": "3.7.0-final"
  },
  "orig_nbformat": 2,
  "file_extension": ".py",
  "mimetype": "text/x-python",
  "name": "python",
  "npconvert_exporter": "python",
  "pygments_lexer": "ipython3",
  "version": 3,
  "kernelspec": {
   "name": "python37064bit6dca8533efbe440b879782639ebf8130",
   "display_name": "Python 3.7.0 64-bit"
  }
 },
 "cells": [
  {
   "cell_type": "code",
   "execution_count": 18,
   "metadata": {},
   "outputs": [],
   "source": [
    "import pandas as pd\n",
    "import numpy as np"
   ]
  },
  {
   "cell_type": "code",
   "execution_count": 3,
   "metadata": {},
   "outputs": [
    {
     "data": {
      "text/plain": "(array([0.25, 0.5 , 0.75, 1.  ]), RangeIndex(start=0, stop=4, step=1))"
     },
     "execution_count": 3,
     "metadata": {},
     "output_type": "execute_result"
    }
   ],
   "source": [
    "# Series\n",
    "# -> a pandas series is an one dimensional array of indexed data. \n",
    "data = pd.Series([0.25, 0.5, 0.75, 1])\n",
    "data.values, data.index"
   ]
  },
  {
   "cell_type": "code",
   "execution_count": 4,
   "metadata": {},
   "outputs": [
    {
     "data": {
      "text/plain": "a    0.25\nb    0.50\nc    0.75\nd    1.00\ndtype: float64"
     },
     "execution_count": 4,
     "metadata": {},
     "output_type": "execute_result"
    }
   ],
   "source": [
    "# while the numpy has an implicitly defined integer index used to access the values. \n",
    "# the pandas series has an explicitly defined index associated with the values.\n",
    "data = pd.Series([0.25, 0.5, 0.75, 1], index=['a', 'b', 'c', 'd'])\n",
    "data"
   ]
  },
  {
   "cell_type": "code",
   "execution_count": 9,
   "metadata": {},
   "outputs": [
    {
     "name": "stdout",
     "output_type": "stream",
     "text": "California     3833259\nTexas         27328974\nNew York      19232131\ndtype: int64\npopulation of California = \n 3833259\npopulation of California to New York = \n California     3833259\nTexas         27328974\nNew York      19232131\ndtype: int64\n"
    }
   ],
   "source": [
    "# Series as Specialized Dictionary\n",
    "population_dict = {\n",
    "    'California':3833259,\n",
    "    'Texas': 27328974,\n",
    "    'New York': 19232131\n",
    "}\n",
    "population = pd.Series(population_dict)\n",
    "print(population)\n",
    "print(\"population of California = \\n\", population['California'])\n",
    "print(\"population of California to New York = \\n\", population['California':'New York'])\n"
   ]
  },
  {
   "cell_type": "code",
   "execution_count": 17,
   "metadata": {},
   "outputs": [
    {
     "name": "stdout",
     "output_type": "stream",
     "text": "From Array = \n 0    1\n1    2\n2    2\n3    4\n4    5\n5    6\ndtype: int64\n\nFrom scaller value = \n 100    5\n200    5\n300    5\n400    5\ndtype: int64\n\nFrom dictionary = \n a    1\nb    2\nc    3\ndtype: int64\n"
    }
   ],
   "source": [
    "# different ways to constructing a series object\n",
    "print(\"From Array = \\n\", pd.Series([1,2,2,4,5,6]), end=\"\\n\\n\")\n",
    "print(\"From scaller value = \\n\", pd.Series(5, index=[100,200,300,400]), end=\"\\n\\n\")\n",
    "print(\"From dictionary = \\n\", pd.Series({'a':1, 'b':2, 'c':3}))"
   ]
  },
  {
   "cell_type": "code",
   "execution_count": 26,
   "metadata": {},
   "outputs": [
    {
     "data": {
      "text/html": "<div>\n<style scoped>\n    .dataframe tbody tr th:only-of-type {\n        vertical-align: middle;\n    }\n\n    .dataframe tbody tr th {\n        vertical-align: top;\n    }\n\n    .dataframe thead th {\n        text-align: right;\n    }\n</style>\n<table border=\"1\" class=\"dataframe\">\n  <thead>\n    <tr style=\"text-align: right;\">\n      <th></th>\n      <th>population</th>\n      <th>area</th>\n    </tr>\n  </thead>\n  <tbody>\n    <tr>\n      <th>California</th>\n      <td>3833259</td>\n      <td>423432423</td>\n    </tr>\n    <tr>\n      <th>Texas</th>\n      <td>27328974</td>\n      <td>32432433</td>\n    </tr>\n    <tr>\n      <th>New York</th>\n      <td>19232131</td>\n      <td>14142423</td>\n    </tr>\n  </tbody>\n</table>\n</div>",
      "text/plain": "            population       area\nCalifornia     3833259  423432423\nTexas         27328974   32432433\nNew York      19232131   14142423"
     },
     "execution_count": 26,
     "metadata": {},
     "output_type": "execute_result"
    }
   ],
   "source": [
    "# DataFrames\n",
    "# dataframes as a generalized numpy array\n",
    "# -> you can think of a dataframe as a sequence of series objects, means they share same index\n",
    "\n",
    "area_dict = {\n",
    "    'California': 423432423,\n",
    "    'Texas': 32432433,\n",
    "    'New York': 14142423\n",
    "}\n",
    "area = pd.Series(area_dict)\n",
    "states = pd.DataFrame({\n",
    "    'population' : population,\n",
    "    'area': area\n",
    "})\n",
    "states"
   ]
  },
  {
   "cell_type": "code",
   "execution_count": 27,
   "metadata": {},
   "outputs": [
    {
     "data": {
      "text/plain": "California    423432423\nTexas          32432433\nNew York       14142423\nName: area, dtype: int64"
     },
     "execution_count": 27,
     "metadata": {},
     "output_type": "execute_result"
    }
   ],
   "source": [
    "# dataframes as specialized dictionary\n",
    "states['area']"
   ]
  },
  {
   "cell_type": "code",
   "execution_count": 28,
   "metadata": {},
   "outputs": [
    {
     "data": {
      "text/html": "<div>\n<style scoped>\n    .dataframe tbody tr th:only-of-type {\n        vertical-align: middle;\n    }\n\n    .dataframe tbody tr th {\n        vertical-align: top;\n    }\n\n    .dataframe thead th {\n        text-align: right;\n    }\n</style>\n<table border=\"1\" class=\"dataframe\">\n  <thead>\n    <tr style=\"text-align: right;\">\n      <th></th>\n      <th>population</th>\n    </tr>\n  </thead>\n  <tbody>\n    <tr>\n      <th>California</th>\n      <td>3833259</td>\n    </tr>\n    <tr>\n      <th>Texas</th>\n      <td>27328974</td>\n    </tr>\n    <tr>\n      <th>New York</th>\n      <td>19232131</td>\n    </tr>\n  </tbody>\n</table>\n</div>",
      "text/plain": "            population\nCalifornia     3833259\nTexas         27328974\nNew York      19232131"
     },
     "execution_count": 28,
     "metadata": {},
     "output_type": "execute_result"
    }
   ],
   "source": [
    "# Creating DataFrames objects\n",
    "# 1) From a Single Series object\n",
    "pd.DataFrame(population, columns=['population'])"
   ]
  },
  {
   "cell_type": "code",
   "execution_count": 29,
   "metadata": {},
   "outputs": [
    {
     "data": {
      "text/html": "<div>\n<style scoped>\n    .dataframe tbody tr th:only-of-type {\n        vertical-align: middle;\n    }\n\n    .dataframe tbody tr th {\n        vertical-align: top;\n    }\n\n    .dataframe thead th {\n        text-align: right;\n    }\n</style>\n<table border=\"1\" class=\"dataframe\">\n  <thead>\n    <tr style=\"text-align: right;\">\n      <th></th>\n      <th>a</th>\n      <th>b</th>\n    </tr>\n  </thead>\n  <tbody>\n    <tr>\n      <th>0</th>\n      <td>0</td>\n      <td>0</td>\n    </tr>\n    <tr>\n      <th>1</th>\n      <td>1</td>\n      <td>2</td>\n    </tr>\n    <tr>\n      <th>2</th>\n      <td>2</td>\n      <td>4</td>\n    </tr>\n  </tbody>\n</table>\n</div>",
      "text/plain": "   a  b\n0  0  0\n1  1  2\n2  2  4"
     },
     "execution_count": 29,
     "metadata": {},
     "output_type": "execute_result"
    }
   ],
   "source": [
    "# 2) From a list of Dictionary\n",
    "data = [ {'a':i, 'b': i*2} for i in range(3)]\n",
    "pd.DataFrame(data)"
   ]
  },
  {
   "cell_type": "code",
   "execution_count": 30,
   "metadata": {},
   "outputs": [
    {
     "data": {
      "text/html": "<div>\n<style scoped>\n    .dataframe tbody tr th:only-of-type {\n        vertical-align: middle;\n    }\n\n    .dataframe tbody tr th {\n        vertical-align: top;\n    }\n\n    .dataframe thead th {\n        text-align: right;\n    }\n</style>\n<table border=\"1\" class=\"dataframe\">\n  <thead>\n    <tr style=\"text-align: right;\">\n      <th></th>\n      <th>a</th>\n      <th>b</th>\n      <th>c</th>\n    </tr>\n  </thead>\n  <tbody>\n    <tr>\n      <th>0</th>\n      <td>1.0</td>\n      <td>2</td>\n      <td>NaN</td>\n    </tr>\n    <tr>\n      <th>1</th>\n      <td>NaN</td>\n      <td>3</td>\n      <td>4.0</td>\n    </tr>\n  </tbody>\n</table>\n</div>",
      "text/plain": "     a  b    c\n0  1.0  2  NaN\n1  NaN  3  4.0"
     },
     "execution_count": 30,
     "metadata": {},
     "output_type": "execute_result"
    }
   ],
   "source": [
    "# Even if some keys in the dictionary are missing then pandas will fill them \n",
    "# with NaN (i.e, not a number) values.\n",
    "pd.DataFrame([{'a':1 ,'b':2}, {'b':3, 'c':4}])"
   ]
  },
  {
   "cell_type": "code",
   "execution_count": 31,
   "metadata": {},
   "outputs": [
    {
     "data": {
      "text/html": "<div>\n<style scoped>\n    .dataframe tbody tr th:only-of-type {\n        vertical-align: middle;\n    }\n\n    .dataframe tbody tr th {\n        vertical-align: top;\n    }\n\n    .dataframe thead th {\n        text-align: right;\n    }\n</style>\n<table border=\"1\" class=\"dataframe\">\n  <thead>\n    <tr style=\"text-align: right;\">\n      <th></th>\n      <th>population</th>\n      <th>area</th>\n    </tr>\n  </thead>\n  <tbody>\n    <tr>\n      <th>California</th>\n      <td>3833259</td>\n      <td>423432423</td>\n    </tr>\n    <tr>\n      <th>Texas</th>\n      <td>27328974</td>\n      <td>32432433</td>\n    </tr>\n    <tr>\n      <th>New York</th>\n      <td>19232131</td>\n      <td>14142423</td>\n    </tr>\n  </tbody>\n</table>\n</div>",
      "text/plain": "            population       area\nCalifornia     3833259  423432423\nTexas         27328974   32432433\nNew York      19232131   14142423"
     },
     "execution_count": 31,
     "metadata": {},
     "output_type": "execute_result"
    }
   ],
   "source": [
    "# 3) From a dictionary of series objects\n",
    "pd.DataFrame({\n",
    "    'population': population,\n",
    "    'area': area\n",
    "})"
   ]
  },
  {
   "cell_type": "code",
   "execution_count": 33,
   "metadata": {},
   "outputs": [
    {
     "data": {
      "text/html": "<div>\n<style scoped>\n    .dataframe tbody tr th:only-of-type {\n        vertical-align: middle;\n    }\n\n    .dataframe tbody tr th {\n        vertical-align: top;\n    }\n\n    .dataframe thead th {\n        text-align: right;\n    }\n</style>\n<table border=\"1\" class=\"dataframe\">\n  <thead>\n    <tr style=\"text-align: right;\">\n      <th></th>\n      <th>Foo</th>\n      <th>Bar</th>\n    </tr>\n  </thead>\n  <tbody>\n    <tr>\n      <th>a</th>\n      <td>1</td>\n      <td>0</td>\n    </tr>\n    <tr>\n      <th>b</th>\n      <td>5</td>\n      <td>5</td>\n    </tr>\n    <tr>\n      <th>c</th>\n      <td>0</td>\n      <td>0</td>\n    </tr>\n  </tbody>\n</table>\n</div>",
      "text/plain": "   Foo  Bar\na    1    0\nb    5    5\nc    0    0"
     },
     "execution_count": 33,
     "metadata": {},
     "output_type": "execute_result"
    }
   ],
   "source": [
    "# 4) From a two Dimensional numpy array\n",
    "pd.DataFrame(np.random.randint(0,10, size=(3,2)), index=['a','b','c'], columns=['Foo','Bar'])"
   ]
  },
  {
   "cell_type": "code",
   "execution_count": 37,
   "metadata": {},
   "outputs": [
    {
     "data": {
      "text/html": "<div>\n<style scoped>\n    .dataframe tbody tr th:only-of-type {\n        vertical-align: middle;\n    }\n\n    .dataframe tbody tr th {\n        vertical-align: top;\n    }\n\n    .dataframe thead th {\n        text-align: right;\n    }\n</style>\n<table border=\"1\" class=\"dataframe\">\n  <thead>\n    <tr style=\"text-align: right;\">\n      <th></th>\n      <th>A</th>\n      <th>B</th>\n    </tr>\n  </thead>\n  <tbody>\n    <tr>\n      <th>0</th>\n      <td>0</td>\n      <td>0.0</td>\n    </tr>\n    <tr>\n      <th>1</th>\n      <td>0</td>\n      <td>0.0</td>\n    </tr>\n    <tr>\n      <th>2</th>\n      <td>0</td>\n      <td>0.0</td>\n    </tr>\n  </tbody>\n</table>\n</div>",
      "text/plain": "   A    B\n0  0  0.0\n1  0  0.0\n2  0  0.0"
     },
     "execution_count": 37,
     "metadata": {},
     "output_type": "execute_result"
    }
   ],
   "source": [
    "# 5) From a numpy structured array\n",
    "a = np.zeros(3, dtype=[('A','i8'), ('B','f8')])\n",
    "pd.DataFrame(a)"
   ]
  },
  {
   "cell_type": "code",
   "execution_count": null,
   "metadata": {},
   "outputs": [],
   "source": []
  }
 ]
}